{
 "cells": [
  {
   "cell_type": "markdown",
   "id": "e09144c0",
   "metadata": {},
   "source": [
    "this image describe how the JavaScript think and execute the task synchronously and asynchronously \n",
    "synchronously is first wih normal stack \n",
    "asynchronously  with event loop and callback function like set timeout and events  is web api is responsible for eacute the callback function after that it goes to the callback  queue and after the stack is empty is the event loop take it to the stack again and execute it."
   ]
  },
  {
   "cell_type": "markdown",
   "id": "23a342f8",
   "metadata": {},
   "source": [
    "![Call Stack Example](image.png)"
   ]
  }
 ],
 "metadata": {
  "language_info": {
   "name": "python"
  }
 },
 "nbformat": 4,
 "nbformat_minor": 5
}
